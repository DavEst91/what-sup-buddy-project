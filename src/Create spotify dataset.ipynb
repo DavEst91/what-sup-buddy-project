{
 "cells": [
  {
   "cell_type": "code",
   "execution_count": 47,
   "metadata": {},
   "outputs": [],
   "source": [
    "import os\n",
    "import spotipy\n",
    "import pandas as pd\n",
    "from dictionarys import emotion_numbers,playlists\n",
    "from spotipy.oauth2 import SpotifyClientCredentials\n",
    "from dotenv import load_dotenv\n",
    "load_dotenv()\n",
    "\n",
    "spotify_sesion=SpotifyClientCredentials(client_id=os.getenv('SPOTIFY_CLIENT_ID'),client_secret=os.getenv('SPOTIFY_CLIENT_SECRET'))\n",
    "sp = spotipy.Spotify(client_credentials_manager=spotify_sesion)\n",
    "df=pd.DataFrame(columns=[\"sentiment_code\",\"song\",\"artist\",\"URL\"])"
   ]
  },
  {
   "cell_type": "code",
   "execution_count": 48,
   "metadata": {},
   "outputs": [],
   "source": [
    "for emotion,playlist in playlists.items():\n",
    "    pl=sp.playlist_tracks(playlist)[\"items\"]\n",
    "    for track in pl:\n",
    "        name=track[\"track\"][\"name\"]\n",
    "        artist=track[\"track\"][\"album\"][\"artists\"][0][\"name\"]\n",
    "        url=track[\"track\"][\"external_urls\"][\"spotify\"]\n",
    "        df2=pd.DataFrame(data=[[emotion,name,artist,url]],columns=[\"sentiment_code\",\"song\",\"artist\",\"URL\"])\n",
    "        df=df.append(df2, ignore_index=True)"
   ]
  },
  {
   "cell_type": "code",
   "execution_count": 51,
   "metadata": {},
   "outputs": [],
   "source": [
    "df.to_csv(\"../output/spotify_songs.csv\",index_label=False)"
   ]
  },
  {
   "cell_type": "code",
   "execution_count": null,
   "metadata": {},
   "outputs": [],
   "source": []
  }
 ],
 "metadata": {
  "kernelspec": {
   "display_name": "Python 3",
   "language": "python",
   "name": "python3"
  },
  "language_info": {
   "codemirror_mode": {
    "name": "ipython",
    "version": 3
   },
   "file_extension": ".py",
   "mimetype": "text/x-python",
   "name": "python",
   "nbconvert_exporter": "python",
   "pygments_lexer": "ipython3",
   "version": "3.6.9"
  }
 },
 "nbformat": 4,
 "nbformat_minor": 2
}
