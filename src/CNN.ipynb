{
 "cells": [
  {
   "cell_type": "code",
   "execution_count": 1,
   "metadata": {
    "scrolled": true
   },
   "outputs": [],
   "source": [
    "import tensorflow as tf\n",
    "from tensorflow.keras.layers import Input,Conv2D,MaxPooling2D,Dropout,Flatten,Dense, BatchNormalization\n",
    "from tensorflow.keras.models import Model, Sequential,load_model\n",
    "from tensorflow.keras import regularizers,optimizers\n",
    "from load_data import split_data\n",
    "import pandas as pd\n",
    "import numpy as np\n",
    "import matplotlib.pyplot as plt\n",
    "from random import choice, randrange\n"
   ]
  },
  {
   "cell_type": "code",
   "execution_count": 2,
   "metadata": {
    "scrolled": false
   },
   "outputs": [],
   "source": [
    "data=pd.read_csv(\"../input/data_prepared.csv\")\n",
    "\n",
    "data[\"pixels\"]=data[\"pixels\"].apply(lambda x:np.asarray(x.split()).astype(float).reshape(-1,1).ravel())\n",
    "data[\"pixels\"]=data[\"pixels\"].apply(lambda x: (x/255).reshape((48,48,1)))\n",
    "X=data[\"pixels\"]\n",
    "y=data.drop(columns=[\"pixels\"])\n",
    "\n",
    "X_train,X_test,y_train,y_test=split_data(X,y)"
   ]
  },
  {
   "cell_type": "code",
   "execution_count": null,
   "metadata": {},
   "outputs": [],
   "source": []
  },
  {
   "cell_type": "code",
   "execution_count": 13,
   "metadata": {},
   "outputs": [
    {
     "data": {
      "text/plain": [
       "<matplotlib.image.AxesImage at 0x7f02409b9390>"
      ]
     },
     "execution_count": 13,
     "metadata": {},
     "output_type": "execute_result"
    },
    {
     "data": {
      "image/png": "[encoded data removed]",
      "text/plain": [
       "<Figure size 432x288 with 1 Axes>"
      ]
     },
     "metadata": {},
     "output_type": "display_data"
    }
   ],
   "source": [
    "plt.imshow(X_train[0].reshape((48,48)),cmap=\"gray\")"
   ]
  },
  {
   "cell_type": "code",
   "execution_count": 14,
   "metadata": {},
   "outputs": [
    {
     "name": "stdout",
     "output_type": "stream",
     "text": [
      "(48, 48, 1)\n"
     ]
    }
   ],
   "source": [
    "print(X_train[0].shape)"
   ]
  },
  {
   "cell_type": "code",
   "execution_count": 15,
   "metadata": {},
   "outputs": [
    {
     "data": {
      "text/plain": [
       "array([0, 0, 1, 0, 0, 0, 0])"
      ]
     },
     "execution_count": 15,
     "metadata": {},
     "output_type": "execute_result"
    }
   ],
   "source": [
    "y_train[0]"
   ]
  },
  {
   "cell_type": "markdown",
   "metadata": {},
   "source": [
    "### Basic model"
   ]
  },
  {
   "cell_type": "code",
   "execution_count": 3,
   "metadata": {},
   "outputs": [],
   "source": [
    "model = Sequential()\n",
    "model.add(Conv2D(64, (3, 3), input_shape=(48, 48 ,1), padding='same', activation='relu'))\n",
    "model.add(Conv2D(64, (3, 3), activation='relu', padding='same'))\n",
    "model.add(MaxPooling2D(pool_size=(2, 2)))\n",
    "model.add(BatchNormalization())\n",
    "model.add(Dropout(0.2))\n",
    "\n",
    "model.add(Conv2D(128, (3, 3), activation='relu', padding='same'))\n",
    "model.add(Conv2D(128, (3, 3), activation='relu', padding='same'))\n",
    "model.add(MaxPooling2D(pool_size=(2, 2)))\n",
    "model.add(BatchNormalization())\n",
    "model.add(Dropout(0.2))\n",
    "\n",
    "model.add(Conv2D(256, (3, 3), activation='relu', padding='same'))\n",
    "model.add(Conv2D(256, (3, 3), activation='relu', padding='same'))\n",
    "model.add(Conv2D(256, (3, 3), activation='relu', padding='same'))\n",
    "model.add(MaxPooling2D(pool_size=(2, 2)))\n",
    "model.add(BatchNormalization())\n",
    "model.add(Dropout(0.2))\n",
    "\n",
    "model.add(Conv2D(512, (3, 3), activation='relu', padding='same'))\n",
    "model.add(Conv2D(512, (3, 3), activation='relu', padding='same'))\n",
    "model.add(Conv2D(512, (3, 3), activation='relu', padding='same'))\n",
    "model.add(MaxPooling2D(pool_size=(2, 2)))\n",
    "model.add(BatchNormalization())\n",
    "model.add(Dropout(0.2))\n",
    "\n",
    "model.add(Flatten())\n",
    "model.add(Dense(4096, activation='relu'))\n",
    "model.add(Dropout(0.5))\n",
    "model.add(Dense(7, activation='softmax'))"
   ]
  },
  {
   "cell_type": "markdown",
   "metadata": {},
   "source": [
    "### Compile model"
   ]
  },
  {
   "cell_type": "code",
   "execution_count": 12,
   "metadata": {
    "scrolled": false
   },
   "outputs": [
    {
     "name": "stdout",
     "output_type": "stream",
     "text": [
      "Model: \"sequential_1\"\n",
      "_________________________________________________________________\n",
      "Layer (type)                 Output Shape              Param #   \n",
      "=================================================================\n",
      "conv2d_10 (Conv2D)           (None, 48, 48, 64)        640       \n",
      "_________________________________________________________________\n",
      "conv2d_11 (Conv2D)           (None, 48, 48, 64)        36928     \n",
      "_________________________________________________________________\n",
      "max_pooling2d_4 (MaxPooling2 (None, 24, 24, 64)        0         \n",
      "_________________________________________________________________\n",
      "batch_normalization_4 (Batch (None, 24, 24, 64)        256       \n",
      "_________________________________________________________________\n",
      "dropout_5 (Dropout)          (None, 24, 24, 64)        0         \n",
      "_________________________________________________________________\n",
      "conv2d_12 (Conv2D)           (None, 24, 24, 128)       73856     \n",
      "_________________________________________________________________\n",
      "conv2d_13 (Conv2D)           (None, 24, 24, 128)       147584    \n",
      "_________________________________________________________________\n",
      "max_pooling2d_5 (MaxPooling2 (None, 12, 12, 128)       0         \n",
      "_________________________________________________________________\n",
      "batch_normalization_5 (Batch (None, 12, 12, 128)       512       \n",
      "_________________________________________________________________\n",
      "dropout_6 (Dropout)          (None, 12, 12, 128)       0         \n",
      "_________________________________________________________________\n",
      "conv2d_14 (Conv2D)           (None, 12, 12, 256)       295168    \n",
      "_________________________________________________________________\n",
      "conv2d_15 (Conv2D)           (None, 12, 12, 256)       590080    \n",
      "_________________________________________________________________\n",
      "conv2d_16 (Conv2D)           (None, 12, 12, 256)       590080    \n",
      "_________________________________________________________________\n",
      "max_pooling2d_6 (MaxPooling2 (None, 6, 6, 256)         0         \n",
      "_________________________________________________________________\n",
      "batch_normalization_6 (Batch (None, 6, 6, 256)         1024      \n",
      "_________________________________________________________________\n",
      "dropout_7 (Dropout)          (None, 6, 6, 256)         0         \n",
      "_________________________________________________________________\n",
      "conv2d_17 (Conv2D)           (None, 6, 6, 512)         1180160   \n",
      "_________________________________________________________________\n",
      "conv2d_18 (Conv2D)           (None, 6, 6, 512)         2359808   \n",
      "_________________________________________________________________\n",
      "conv2d_19 (Conv2D)           (None, 6, 6, 512)         2359808   \n",
      "_________________________________________________________________\n",
      "max_pooling2d_7 (MaxPooling2 (None, 3, 3, 512)         0         \n",
      "_________________________________________________________________\n",
      "batch_normalization_7 (Batch (None, 3, 3, 512)         2048      \n",
      "_________________________________________________________________\n",
      "dropout_8 (Dropout)          (None, 3, 3, 512)         0         \n",
      "_________________________________________________________________\n",
      "flatten_1 (Flatten)          (None, 4608)              0         \n",
      "_________________________________________________________________\n",
      "dense_2 (Dense)              (None, 4096)              18878464  \n",
      "_________________________________________________________________\n",
      "dropout_9 (Dropout)          (None, 4096)              0         \n",
      "_________________________________________________________________\n",
      "dense_3 (Dense)              (None, 7)                 28679     \n",
      "=================================================================\n",
      "Total params: 26,545,095\n",
      "Trainable params: 26,543,175\n",
      "Non-trainable params: 1,920\n",
      "_________________________________________________________________\n",
      "None\n",
      "Epoch 1/25\n",
      "575/575 [==============================] - 795s 1s/step - loss: 1.9082 - accuracy: 0.2352 - val_loss: 1.8209 - val_accuracy: 0.1938\n",
      "Epoch 2/25\n",
      "575/575 [==============================] - 790s 1s/step - loss: 1.6796 - accuracy: 0.3292 - val_loss: 1.6778 - val_accuracy: 0.3674\n",
      "Epoch 3/25\n",
      "575/575 [==============================] - 814s 1s/step - loss: 1.4744 - accuracy: 0.4261 - val_loss: 1.4423 - val_accuracy: 0.4320\n",
      "Epoch 4/25\n",
      "575/575 [==============================] - 806s 1s/step - loss: 1.3367 - accuracy: 0.4841 - val_loss: 1.3248 - val_accuracy: 0.4915\n",
      "Epoch 5/25\n",
      "575/575 [==============================] - 748s 1s/step - loss: 1.2445 - accuracy: 0.5224 - val_loss: 1.2493 - val_accuracy: 0.5114\n",
      "Epoch 6/25\n",
      "575/575 [==============================] - 745s 1s/step - loss: 1.1835 - accuracy: 0.5491 - val_loss: 1.2323 - val_accuracy: 0.5302\n",
      "Epoch 7/25\n",
      "575/575 [==============================] - 744s 1s/step - loss: 1.1246 - accuracy: 0.5730 - val_loss: 1.1519 - val_accuracy: 0.5616\n",
      "Epoch 8/25\n",
      "575/575 [==============================] - 744s 1s/step - loss: 1.0656 - accuracy: 0.5927 - val_loss: 1.2553 - val_accuracy: 0.5361\n",
      "Epoch 9/25\n",
      "575/575 [==============================] - 742s 1s/step - loss: 1.0131 - accuracy: 0.6132 - val_loss: 1.1044 - val_accuracy: 0.5841\n",
      "Epoch 10/25\n",
      "575/575 [==============================] - 742s 1s/step - loss: 0.9738 - accuracy: 0.6300 - val_loss: 1.0758 - val_accuracy: 0.6002\n",
      "Epoch 11/25\n",
      "575/575 [==============================] - 743s 1s/step - loss: 0.9268 - accuracy: 0.6457 - val_loss: 1.0864 - val_accuracy: 0.6031\n",
      "Epoch 12/25\n",
      "575/575 [==============================] - 742s 1s/step - loss: 0.8840 - accuracy: 0.6609 - val_loss: 1.0811 - val_accuracy: 0.6096\n",
      "Epoch 13/25\n",
      "575/575 [==============================] - 740s 1s/step - loss: 0.8343 - accuracy: 0.6803 - val_loss: 1.1552 - val_accuracy: 0.5967\n",
      "Epoch 14/25\n",
      "575/575 [==============================] - 740s 1s/step - loss: 0.7880 - accuracy: 0.7001 - val_loss: 1.0642 - val_accuracy: 0.6180\n",
      "Epoch 15/25\n",
      "575/575 [==============================] - 741s 1s/step - loss: 0.7441 - accuracy: 0.7178 - val_loss: 1.1132 - val_accuracy: 0.6237\n",
      "Epoch 16/25\n",
      "575/575 [==============================] - 740s 1s/step - loss: 0.6998 - accuracy: 0.7321 - val_loss: 1.1263 - val_accuracy: 0.6243\n",
      "Epoch 17/25\n",
      "575/575 [==============================] - 741s 1s/step - loss: 0.6518 - accuracy: 0.7515 - val_loss: 1.1421 - val_accuracy: 0.6186\n",
      "Epoch 18/25\n",
      "575/575 [==============================] - 740s 1s/step - loss: 0.6155 - accuracy: 0.7659 - val_loss: 1.1689 - val_accuracy: 0.6236\n",
      "Epoch 19/25\n",
      "575/575 [==============================] - 740s 1s/step - loss: 0.5699 - accuracy: 0.7837 - val_loss: 1.2625 - val_accuracy: 0.6245\n",
      "Epoch 20/25\n",
      "575/575 [==============================] - 742s 1s/step - loss: 0.5314 - accuracy: 0.8000 - val_loss: 1.3478 - val_accuracy: 0.6121\n",
      "Epoch 21/25\n",
      "575/575 [==============================] - 742s 1s/step - loss: 0.4956 - accuracy: 0.8158 - val_loss: 1.3037 - val_accuracy: 0.6340\n",
      "Epoch 22/25\n",
      "575/575 [==============================] - 741s 1s/step - loss: 0.4582 - accuracy: 0.8280 - val_loss: 1.3573 - val_accuracy: 0.6308\n",
      "Epoch 23/25\n",
      "575/575 [==============================] - 742s 1s/step - loss: 0.4318 - accuracy: 0.8353 - val_loss: 1.3928 - val_accuracy: 0.6328\n",
      "Epoch 24/25\n",
      "575/575 [==============================] - 742s 1s/step - loss: 0.3971 - accuracy: 0.8494 - val_loss: 1.4635 - val_accuracy: 0.6336\n",
      "Epoch 25/25\n",
      "575/575 [==============================] - 742s 1s/step - loss: 0.3684 - accuracy: 0.8636 - val_loss: 1.4694 - val_accuracy: 0.6272\n",
      "WARNING:tensorflow:From /home/david/.local/lib/python3.6/site-packages/tensorflow/python/ops/resource_variable_ops.py:1817: calling BaseResourceVariable.__init__ (from tensorflow.python.ops.resource_variable_ops) with constraint is deprecated and will be removed in a future version.\n",
      "Instructions for updating:\n",
      "If using Keras pass *_constraint arguments to layers.\n",
      "INFO:tensorflow:Assets written to: ../models/model_basic_as_cp/assets\n"
     ]
    }
   ],
   "source": [
    "\n",
    "\n",
    "epochs = 25\n",
    "lrate = 0.01\n",
    "decay = lrate/epochs\n",
    "adam = optimizers.Adam(decay=decay)\n",
    "model.compile(loss='categorical_crossentropy', optimizer=adam, metrics=['accuracy'])\n",
    "print(model.summary())\n",
    "model.fit(X_train, y_train, validation_data=(X_test, y_test), epochs=epochs,verbose=1, batch_size=50)\n",
    "\n",
    "model.save(\"../models/model_basic_as_cp.h5\")"
   ]
  },
  {
   "cell_type": "markdown",
   "metadata": {},
   "source": [
    "### Same model with more convolution layers "
   ]
  },
  {
   "cell_type": "markdown",
   "metadata": {},
   "source": [
    "With our first model we have reached an accuracy of 0.63. We are traying to improve it by adding one more bunch of convolution layers to our model."
   ]
  },
  {
   "cell_type": "code",
   "execution_count": 11,
   "metadata": {},
   "outputs": [],
   "source": [
    "model = Sequential()\n",
    "model.add(Conv2D(64, (3, 3), input_shape=(48, 48 ,1), padding='same', activation='relu'))\n",
    "model.add(Conv2D(64, (3, 3), activation='relu', padding='same'))\n",
    "model.add(MaxPooling2D(pool_size=(2, 2)))\n",
    "model.add(BatchNormalization())\n",
    "model.add(Dropout(0.2))\n",
    "\n",
    "model.add(Conv2D(128, (3, 3), activation='relu', padding='same'))\n",
    "model.add(Conv2D(128, (3, 3), activation='relu', padding='same'))\n",
    "model.add(MaxPooling2D(pool_size=(2, 2)))\n",
    "model.add(BatchNormalization())\n",
    "model.add(Dropout(0.2))\n",
    "\n",
    "model.add(Conv2D(256, (3, 3), activation='relu', padding='same'))\n",
    "model.add(Conv2D(256, (3, 3), activation='relu', padding='same'))\n",
    "model.add(Conv2D(256, (3, 3), activation='relu', padding='same'))\n",
    "model.add(MaxPooling2D(pool_size=(2, 2)))\n",
    "model.add(BatchNormalization())\n",
    "model.add(Dropout(0.2))\n",
    "\n",
    "model.add(Conv2D(512, (3, 3), activation='relu', padding='same'))\n",
    "model.add(Conv2D(512, (3, 3), activation='relu', padding='same'))\n",
    "model.add(Conv2D(512, (3, 3), activation='relu', padding='same'))\n",
    "model.add(MaxPooling2D(pool_size=(2, 2)))\n",
    "model.add(BatchNormalization())\n",
    "model.add(Dropout(0.2))\n",
    "\n",
    "model.add(Conv2D(1024, (3, 3), activation='relu', padding='same'))\n",
    "model.add(Conv2D(1024, (3, 3), activation='relu', padding='same'))\n",
    "model.add(Conv2D(1024, (3, 3), activation='relu', padding='same'))\n",
    "model.add(MaxPooling2D(pool_size=(2, 2)))\n",
    "model.add(BatchNormalization())\n",
    "model.add(Dropout(0.2))\n",
    "\n",
    "model.add(Flatten())\n",
    "model.add(Dense(16384, activation='relu'))\n",
    "model.add(Dropout(0.5))\n",
    "model.add(Dense(7, activation='softmax'))\n",
    "\n",
    "model.save(\"../models/model_3convl1024__not_trained.h5\")"
   ]
  },
  {
   "cell_type": "code",
   "execution_count": null,
   "metadata": {
    "scrolled": false
   },
   "outputs": [],
   "source": [
    "epochs = 50\n",
    "lrate = 0.01\n",
    "decay = lrate/epochs\n",
    "adam = optimizers.Adam(decay=decay)\n",
    "model.compile(loss='categorical_crossentropy', optimizer=adam, metrics=['accuracy'])\n",
    "model.fit(X_train, y_train, validation_data=(X_test, y_test), epochs=epochs,verbose=1, batch_size=50)\n",
    "\n",
    "model.save(\"../models/model_3coonl1024.h5\")"
   ]
  },
  {
   "cell_type": "markdown",
   "metadata": {},
   "source": [
    "With this model trained with we have reached  an accuracy of 0.65.  We are trying to improve it with some data augmentation techniques"
   ]
  },
  {
   "cell_type": "markdown",
   "metadata": {},
   "source": [
    "### Data augmentation techniques "
   ]
  },
  {
   "cell_type": "code",
   "execution_count": 5,
   "metadata": {
    "scrolled": false
   },
   "outputs": [
    {
     "data": {
      "image/png": "[encoded data removed]",
      "text/plain": [
       "<Figure size 864x648 with 16 Axes>"
      ]
     },
     "metadata": {},
     "output_type": "display_data"
    }
   ],
   "source": [
    "fig, axis=plt.subplots(4,4,figsize=(12,9))\n",
    "\n",
    "for i in range(4):\n",
    "    for j in range(4):\n",
    "        axis[i][j].imshow(np.reshape(choice(X)*255,(48,48)),cmap=\"gray\")"
   ]
  },
  {
   "cell_type": "markdown",
   "metadata": {},
   "source": [
    "There are 5 main techniques for image data augmentation: \n",
    "\n",
    "* Image shifts \n",
    "* Image flips \n",
    "* Image rotations \n",
    "* Image brightness\n",
    "* Image zoom \n",
    "\n",
    "Since most of the images are well centered and cropped, it doesn't make sense using shifts or zoom, so we are going to keep it to horizontal flips, rotations between -25º and +25º and brightness.\n"
   ]
  },
  {
   "cell_type": "code",
   "execution_count": 6,
   "metadata": {},
   "outputs": [],
   "source": [
    "from tensorflow.keras.preprocessing.image import ImageDataGenerator\n",
    "\n",
    "data_generator=ImageDataGenerator(rotation_range=25)"
   ]
  },
  {
   "cell_type": "code",
   "execution_count": 7,
   "metadata": {
    "scrolled": false
   },
   "outputs": [
    {
     "name": "stdout",
     "output_type": "stream",
     "text": [
      "Model: \"sequential_3\"\n",
      "_________________________________________________________________\n",
      "Layer (type)                 Output Shape              Param #   \n",
      "=================================================================\n",
      "conv2d_37 (Conv2D)           (None, 48, 48, 64)        640       \n",
      "_________________________________________________________________\n",
      "conv2d_38 (Conv2D)           (None, 48, 48, 64)        36928     \n",
      "_________________________________________________________________\n",
      "max_pooling2d_14 (MaxPooling (None, 24, 24, 64)        0         \n",
      "_________________________________________________________________\n",
      "batch_normalization_14 (Batc (None, 24, 24, 64)        256       \n",
      "_________________________________________________________________\n",
      "dropout_17 (Dropout)         (None, 24, 24, 64)        0         \n",
      "_________________________________________________________________\n",
      "conv2d_39 (Conv2D)           (None, 24, 24, 128)       73856     \n",
      "_________________________________________________________________\n",
      "conv2d_40 (Conv2D)           (None, 24, 24, 128)       147584    \n",
      "_________________________________________________________________\n",
      "max_pooling2d_15 (MaxPooling (None, 12, 12, 128)       0         \n",
      "_________________________________________________________________\n",
      "batch_normalization_15 (Batc (None, 12, 12, 128)       512       \n",
      "_________________________________________________________________\n",
      "dropout_18 (Dropout)         (None, 12, 12, 128)       0         \n",
      "_________________________________________________________________\n",
      "conv2d_41 (Conv2D)           (None, 12, 12, 256)       295168    \n",
      "_________________________________________________________________\n",
      "conv2d_42 (Conv2D)           (None, 12, 12, 256)       590080    \n",
      "_________________________________________________________________\n",
      "conv2d_43 (Conv2D)           (None, 12, 12, 256)       590080    \n",
      "_________________________________________________________________\n",
      "max_pooling2d_16 (MaxPooling (None, 6, 6, 256)         0         \n",
      "_________________________________________________________________\n",
      "batch_normalization_16 (Batc (None, 6, 6, 256)         1024      \n",
      "_________________________________________________________________\n",
      "dropout_19 (Dropout)         (None, 6, 6, 256)         0         \n",
      "_________________________________________________________________\n",
      "conv2d_44 (Conv2D)           (None, 6, 6, 512)         1180160   \n",
      "_________________________________________________________________\n",
      "conv2d_45 (Conv2D)           (None, 6, 6, 512)         2359808   \n",
      "_________________________________________________________________\n",
      "conv2d_46 (Conv2D)           (None, 6, 6, 512)         2359808   \n",
      "_________________________________________________________________\n",
      "max_pooling2d_17 (MaxPooling (None, 3, 3, 512)         0         \n",
      "_________________________________________________________________\n",
      "batch_normalization_17 (Batc (None, 3, 3, 512)         2048      \n",
      "_________________________________________________________________\n",
      "dropout_20 (Dropout)         (None, 3, 3, 512)         0         \n",
      "_________________________________________________________________\n",
      "conv2d_47 (Conv2D)           (None, 3, 3, 1024)        4719616   \n",
      "_________________________________________________________________\n",
      "conv2d_48 (Conv2D)           (None, 3, 3, 1024)        9438208   \n",
      "_________________________________________________________________\n",
      "conv2d_49 (Conv2D)           (None, 3, 3, 1024)        9438208   \n",
      "_________________________________________________________________\n",
      "max_pooling2d_18 (MaxPooling (None, 1, 1, 1024)        0         \n",
      "_________________________________________________________________\n",
      "batch_normalization_18 (Batc (None, 1, 1, 1024)        4096      \n",
      "_________________________________________________________________\n",
      "dropout_21 (Dropout)         (None, 1, 1, 1024)        0         \n",
      "_________________________________________________________________\n",
      "flatten_3 (Flatten)          (None, 1024)              0         \n",
      "_________________________________________________________________\n",
      "dense_6 (Dense)              (None, 16384)             16793600  \n",
      "_________________________________________________________________\n",
      "dropout_22 (Dropout)         (None, 16384)             0         \n",
      "_________________________________________________________________\n",
      "dense_7 (Dense)              (None, 7)                 114695    \n",
      "=================================================================\n",
      "Total params: 48,146,375\n",
      "Trainable params: 48,142,407\n",
      "Non-trainable params: 3,968\n",
      "_________________________________________________________________\n",
      "None\n",
      "Epoch 1/15\n",
      "500/500 [==============================] - 17s 34ms/step - loss: 1.1232 - accuracy: 0.5939 - val_loss: 0.9342 - val_accuracy: 0.6615\n",
      "Epoch 2/15\n",
      "500/500 [==============================] - 16s 32ms/step - loss: 1.0800 - accuracy: 0.6077 - val_loss: 1.8320 - val_accuracy: 0.5663\n",
      "Epoch 3/15\n",
      "500/500 [==============================] - 16s 32ms/step - loss: 1.0673 - accuracy: 0.6162 - val_loss: 0.9937 - val_accuracy: 0.6932\n",
      "Epoch 4/15\n",
      "500/500 [==============================] - 16s 32ms/step - loss: 0.9728 - accuracy: 0.6442 - val_loss: 0.7892 - val_accuracy: 0.7164\n",
      "Epoch 5/15\n",
      "500/500 [==============================] - 16s 32ms/step - loss: 0.9146 - accuracy: 0.6650 - val_loss: 0.7407 - val_accuracy: 0.7407\n",
      "Epoch 6/15\n",
      "500/500 [==============================] - 16s 32ms/step - loss: 0.8849 - accuracy: 0.6763 - val_loss: 0.8733 - val_accuracy: 0.7274\n",
      "Epoch 7/15\n",
      "500/500 [==============================] - 16s 32ms/step - loss: 0.8472 - accuracy: 0.6959 - val_loss: 0.8160 - val_accuracy: 0.7216\n",
      "Epoch 8/15\n",
      "500/500 [==============================] - 16s 32ms/step - loss: 0.8158 - accuracy: 0.7018 - val_loss: 4.2913 - val_accuracy: 0.7381\n",
      "Epoch 9/15\n",
      "500/500 [==============================] - 16s 32ms/step - loss: 0.7947 - accuracy: 0.7119 - val_loss: 4.9956 - val_accuracy: 0.7448\n",
      "Epoch 10/15\n",
      "500/500 [==============================] - 16s 32ms/step - loss: 0.7629 - accuracy: 0.7225 - val_loss: 0.7291 - val_accuracy: 0.7391\n",
      "Epoch 11/15\n",
      "500/500 [==============================] - 16s 32ms/step - loss: 0.7456 - accuracy: 0.7290 - val_loss: 2.9411 - val_accuracy: 0.7508\n",
      "Epoch 12/15\n",
      "500/500 [==============================] - 16s 32ms/step - loss: 0.7279 - accuracy: 0.7385 - val_loss: 3.1941 - val_accuracy: 0.6591\n",
      "Epoch 13/15\n",
      "500/500 [==============================] - 16s 32ms/step - loss: 0.7305 - accuracy: 0.7404 - val_loss: 2.9647 - val_accuracy: 0.7536\n",
      "Epoch 14/15\n",
      "500/500 [==============================] - 16s 32ms/step - loss: 0.6846 - accuracy: 0.7532 - val_loss: 0.7072 - val_accuracy: 0.7570\n",
      "Epoch 15/15\n",
      "500/500 [==============================] - 16s 32ms/step - loss: 0.6566 - accuracy: 0.7634 - val_loss: 0.7089 - val_accuracy: 0.7614\n"
     ]
    }
   ],
   "source": [
    "model_data_augmentation=load_model(\"../models/model_3coonl1024.h5\",compile=True)\n",
    "\n",
    "data_generator.fit(X_train)\n",
    "\n",
    "epochs = 15\n",
    "lrate = 0.01\n",
    "decay = lrate/epochs\n",
    "\n",
    "adam = optimizers.Adam( decay=decay)\n",
    "model_data_augmentation.compile(loss='categorical_crossentropy', optimizer=adam, metrics=['accuracy'])\n",
    "\n",
    "print(model_data_augmentation.summary())\n",
    "\n",
    "model_data_augmentation.fit(data_generator.flow(X_train, y_train, batch_size=50),validation_data=(X_test, y_test),steps_per_epoch=500, epochs=epochs)\n",
    "\n",
    "model_data_augmentation.save(\"../models/model_complex_with_data_augmentation_rotatation_25degrees.h5\")"
   ]
  },
  {
   "cell_type": "markdown",
   "metadata": {},
   "source": [
    "We have improved the validation accuracy from 0.65 to 0.75 by random rotation generation. Now we are going to apply horizontal flipping to images."
   ]
  },
  {
   "cell_type": "code",
   "execution_count": 8,
   "metadata": {
    "scrolled": false
   },
   "outputs": [
    {
     "name": "stdout",
     "output_type": "stream",
     "text": [
      "Model: \"sequential_3\"\n",
      "_________________________________________________________________\n",
      "Layer (type)                 Output Shape              Param #   \n",
      "=================================================================\n",
      "conv2d_37 (Conv2D)           (None, 48, 48, 64)        640       \n",
      "_________________________________________________________________\n",
      "conv2d_38 (Conv2D)           (None, 48, 48, 64)        36928     \n",
      "_________________________________________________________________\n",
      "max_pooling2d_14 (MaxPooling (None, 24, 24, 64)        0         \n",
      "_________________________________________________________________\n",
      "batch_normalization_14 (Batc (None, 24, 24, 64)        256       \n",
      "_________________________________________________________________\n",
      "dropout_17 (Dropout)         (None, 24, 24, 64)        0         \n",
      "_________________________________________________________________\n",
      "conv2d_39 (Conv2D)           (None, 24, 24, 128)       73856     \n",
      "_________________________________________________________________\n",
      "conv2d_40 (Conv2D)           (None, 24, 24, 128)       147584    \n",
      "_________________________________________________________________\n",
      "max_pooling2d_15 (MaxPooling (None, 12, 12, 128)       0         \n",
      "_________________________________________________________________\n",
      "batch_normalization_15 (Batc (None, 12, 12, 128)       512       \n",
      "_________________________________________________________________\n",
      "dropout_18 (Dropout)         (None, 12, 12, 128)       0         \n",
      "_________________________________________________________________\n",
      "conv2d_41 (Conv2D)           (None, 12, 12, 256)       295168    \n",
      "_________________________________________________________________\n",
      "conv2d_42 (Conv2D)           (None, 12, 12, 256)       590080    \n",
      "_________________________________________________________________\n",
      "conv2d_43 (Conv2D)           (None, 12, 12, 256)       590080    \n",
      "_________________________________________________________________\n",
      "max_pooling2d_16 (MaxPooling (None, 6, 6, 256)         0         \n",
      "_________________________________________________________________\n",
      "batch_normalization_16 (Batc (None, 6, 6, 256)         1024      \n",
      "_________________________________________________________________\n",
      "dropout_19 (Dropout)         (None, 6, 6, 256)         0         \n",
      "_________________________________________________________________\n",
      "conv2d_44 (Conv2D)           (None, 6, 6, 512)         1180160   \n",
      "_________________________________________________________________\n",
      "conv2d_45 (Conv2D)           (None, 6, 6, 512)         2359808   \n",
      "_________________________________________________________________\n",
      "conv2d_46 (Conv2D)           (None, 6, 6, 512)         2359808   \n",
      "_________________________________________________________________\n",
      "max_pooling2d_17 (MaxPooling (None, 3, 3, 512)         0         \n",
      "_________________________________________________________________\n",
      "batch_normalization_17 (Batc (None, 3, 3, 512)         2048      \n",
      "_________________________________________________________________\n",
      "dropout_20 (Dropout)         (None, 3, 3, 512)         0         \n",
      "_________________________________________________________________\n",
      "conv2d_47 (Conv2D)           (None, 3, 3, 1024)        4719616   \n",
      "_________________________________________________________________\n",
      "conv2d_48 (Conv2D)           (None, 3, 3, 1024)        9438208   \n",
      "_________________________________________________________________\n",
      "conv2d_49 (Conv2D)           (None, 3, 3, 1024)        9438208   \n",
      "_________________________________________________________________\n",
      "max_pooling2d_18 (MaxPooling (None, 1, 1, 1024)        0         \n",
      "_________________________________________________________________\n",
      "batch_normalization_18 (Batc (None, 1, 1, 1024)        4096      \n",
      "_________________________________________________________________\n",
      "dropout_21 (Dropout)         (None, 1, 1, 1024)        0         \n",
      "_________________________________________________________________\n",
      "flatten_3 (Flatten)          (None, 1024)              0         \n",
      "_________________________________________________________________\n",
      "dense_6 (Dense)              (None, 16384)             16793600  \n",
      "_________________________________________________________________\n",
      "dropout_22 (Dropout)         (None, 16384)             0         \n",
      "_________________________________________________________________\n",
      "dense_7 (Dense)              (None, 7)                 114695    \n",
      "=================================================================\n",
      "Total params: 48,146,375\n",
      "Trainable params: 48,142,407\n",
      "Non-trainable params: 3,968\n",
      "_________________________________________________________________\n",
      "None\n",
      "Epoch 1/15\n",
      "500/500 [==============================] - 16s 33ms/step - loss: 0.9491 - accuracy: 0.6631 - val_loss: 0.9254 - val_accuracy: 0.6633\n",
      "Epoch 2/15\n",
      "500/500 [==============================] - 16s 32ms/step - loss: 0.8695 - accuracy: 0.6872 - val_loss: 1.3400 - val_accuracy: 0.6800\n",
      "Epoch 3/15\n",
      "500/500 [==============================] - 16s 32ms/step - loss: 0.8157 - accuracy: 0.7102 - val_loss: 0.8256 - val_accuracy: 0.7008\n",
      "Epoch 4/15\n",
      "500/500 [==============================] - 16s 32ms/step - loss: 0.7364 - accuracy: 0.7415 - val_loss: 2.8532 - val_accuracy: 0.6909\n",
      "Epoch 5/15\n",
      "500/500 [==============================] - 16s 32ms/step - loss: 0.7337 - accuracy: 0.7402 - val_loss: 0.8136 - val_accuracy: 0.7186\n",
      "Epoch 6/15\n",
      "500/500 [==============================] - 16s 32ms/step - loss: 0.6750 - accuracy: 0.7627 - val_loss: 1.1460 - val_accuracy: 0.6645\n",
      "Epoch 7/15\n",
      "500/500 [==============================] - 16s 32ms/step - loss: 0.6268 - accuracy: 0.7784 - val_loss: 0.8895 - val_accuracy: 0.6842\n",
      "Epoch 8/15\n",
      "500/500 [==============================] - 16s 32ms/step - loss: 0.5925 - accuracy: 0.7949 - val_loss: 0.8095 - val_accuracy: 0.7453\n",
      "Epoch 9/15\n",
      "500/500 [==============================] - 16s 32ms/step - loss: 0.5330 - accuracy: 0.8137 - val_loss: 2.2712 - val_accuracy: 0.7487\n",
      "Epoch 10/15\n",
      "500/500 [==============================] - 16s 32ms/step - loss: 0.4934 - accuracy: 0.8274 - val_loss: 24.8576 - val_accuracy: 0.7435\n",
      "Epoch 11/15\n",
      "500/500 [==============================] - 16s 32ms/step - loss: 0.4701 - accuracy: 0.8373 - val_loss: 11.6635 - val_accuracy: 0.7484\n",
      "Epoch 12/15\n",
      "500/500 [==============================] - 16s 32ms/step - loss: 0.4459 - accuracy: 0.8465 - val_loss: 1.0430 - val_accuracy: 0.7336\n",
      "Epoch 13/15\n",
      "500/500 [==============================] - 16s 32ms/step - loss: 0.4083 - accuracy: 0.8575 - val_loss: 2.0501 - val_accuracy: 0.7301\n",
      "Epoch 14/15\n",
      "500/500 [==============================] - 16s 32ms/step - loss: 0.3904 - accuracy: 0.8670 - val_loss: 1.3390 - val_accuracy: 0.7441\n",
      "Epoch 15/15\n",
      "500/500 [==============================] - 16s 32ms/step - loss: 0.3661 - accuracy: 0.8740 - val_loss: 43.0274 - val_accuracy: 0.7492\n",
      "WARNING:tensorflow:From /home/david/.local/lib/python3.7/site-packages/tensorflow/python/ops/resource_variable_ops.py:1817: calling BaseResourceVariable.__init__ (from tensorflow.python.ops.resource_variable_ops) with constraint is deprecated and will be removed in a future version.\n",
      "Instructions for updating:\n",
      "If using Keras pass *_constraint arguments to layers.\n",
      "INFO:tensorflow:Assets written to: model_basic_with_data_augmentation_rotatation_horizontal_flip/assets\n"
     ]
    }
   ],
   "source": [
    "data_generator=ImageDataGenerator(horizontal_flip=True)\n",
    "\n",
    "model_data_augmentation=load_model(\"../models/model_basic_with_data_augmentation_rotatation_25degrees.h5\",compile=True)\n",
    "\n",
    "data_generator.fit(X_train)\n",
    "\n",
    "epochs = 15\n",
    "lrate = 0.01\n",
    "decay = lrate/epochs\n",
    "\n",
    "adam = optimizers.Adam( decay=decay)\n",
    "model_data_augmentation.compile(loss='categorical_crossentropy', optimizer=adam, metrics=['accuracy'])\n",
    "\n",
    "print(model_data_augmentation.summary())\n",
    "\n",
    "model_data_augmentation.fit(data_generator.flow(X_train, y_train, batch_size=50),validation_data=(X_test, y_test),steps_per_epoch=500, epochs=epochs)\n",
    "\n",
    "model_data_augmentation.save(\"model_basic_with_data_augmentation_rotatation_horizontal_flip\")"
   ]
  },
  {
   "cell_type": "markdown",
   "metadata": {},
   "source": [
    "We haven't improved the accuracyof the model with this extra training. Now we are going to try data augmentation with random brightness range."
   ]
  },
  {
   "cell_type": "code",
   "execution_count": 9,
   "metadata": {
    "scrolled": false
   },
   "outputs": [
    {
     "name": "stdout",
     "output_type": "stream",
     "text": [
      "Model: \"sequential\"\n",
      "_________________________________________________________________\n",
      "Layer (type)                 Output Shape              Param #   \n",
      "=================================================================\n",
      "conv2d (Conv2D)              (None, 48, 48, 64)        640       \n",
      "_________________________________________________________________\n",
      "conv2d_1 (Conv2D)            (None, 48, 48, 64)        36928     \n",
      "_________________________________________________________________\n",
      "max_pooling2d (MaxPooling2D) (None, 24, 24, 64)        0         \n",
      "_________________________________________________________________\n",
      "batch_normalization (BatchNo (None, 24, 24, 64)        256       \n",
      "_________________________________________________________________\n",
      "dropout (Dropout)            (None, 24, 24, 64)        0         \n",
      "_________________________________________________________________\n",
      "conv2d_2 (Conv2D)            (None, 24, 24, 128)       73856     \n",
      "_________________________________________________________________\n",
      "conv2d_3 (Conv2D)            (None, 24, 24, 128)       147584    \n",
      "_________________________________________________________________\n",
      "max_pooling2d_1 (MaxPooling2 (None, 12, 12, 128)       0         \n",
      "_________________________________________________________________\n",
      "batch_normalization_1 (Batch (None, 12, 12, 128)       512       \n",
      "_________________________________________________________________\n",
      "dropout_1 (Dropout)          (None, 12, 12, 128)       0         \n",
      "_________________________________________________________________\n",
      "conv2d_4 (Conv2D)            (None, 12, 12, 256)       295168    \n",
      "_________________________________________________________________\n",
      "conv2d_5 (Conv2D)            (None, 12, 12, 256)       590080    \n",
      "_________________________________________________________________\n",
      "conv2d_6 (Conv2D)            (None, 12, 12, 256)       590080    \n",
      "_________________________________________________________________\n",
      "max_pooling2d_2 (MaxPooling2 (None, 6, 6, 256)         0         \n",
      "_________________________________________________________________\n",
      "batch_normalization_2 (Batch (None, 6, 6, 256)         1024      \n",
      "_________________________________________________________________\n",
      "dropout_2 (Dropout)          (None, 6, 6, 256)         0         \n",
      "_________________________________________________________________\n",
      "conv2d_7 (Conv2D)            (None, 6, 6, 512)         1180160   \n",
      "_________________________________________________________________\n",
      "conv2d_8 (Conv2D)            (None, 6, 6, 512)         2359808   \n",
      "_________________________________________________________________\n",
      "conv2d_9 (Conv2D)            (None, 6, 6, 512)         2359808   \n",
      "_________________________________________________________________\n",
      "max_pooling2d_3 (MaxPooling2 (None, 3, 3, 512)         0         \n",
      "_________________________________________________________________\n",
      "batch_normalization_3 (Batch (None, 3, 3, 512)         2048      \n",
      "_________________________________________________________________\n",
      "dropout_3 (Dropout)          (None, 3, 3, 512)         0         \n",
      "_________________________________________________________________\n",
      "flatten (Flatten)            (None, 4608)              0         \n",
      "_________________________________________________________________\n",
      "dense (Dense)                (None, 4096)              18878464  \n",
      "_________________________________________________________________\n",
      "dropout_4 (Dropout)          (None, 4096)              0         \n",
      "_________________________________________________________________\n",
      "dense_1 (Dense)              (None, 7)                 28679     \n",
      "=================================================================\n",
      "Total params: 26,545,095\n",
      "Trainable params: 26,543,175\n",
      "Non-trainable params: 1,920\n",
      "_________________________________________________________________\n",
      "None\n",
      "Epoch 1/15\n",
      "500/500 [==============================] - 10s 20ms/step - loss: 0.8234 - accuracy: 0.7036 - val_loss: 1.9006 - val_accuracy: 0.2485\n",
      "Epoch 2/15\n",
      "500/500 [==============================] - 10s 19ms/step - loss: 0.7112 - accuracy: 0.7391 - val_loss: 2.7227 - val_accuracy: 0.1417\n",
      "Epoch 3/15\n",
      "500/500 [==============================] - 10s 19ms/step - loss: 0.6111 - accuracy: 0.7788 - val_loss: 2.2425 - val_accuracy: 0.1417\n",
      "Epoch 4/15\n",
      "500/500 [==============================] - 10s 19ms/step - loss: 0.5427 - accuracy: 0.8024 - val_loss: 2.2707 - val_accuracy: 0.1417\n",
      "Epoch 5/15\n",
      "500/500 [==============================] - 10s 19ms/step - loss: 0.4704 - accuracy: 0.8292 - val_loss: 3.2812 - val_accuracy: 0.1693\n",
      "Epoch 6/15\n",
      "500/500 [==============================] - 10s 19ms/step - loss: 0.4137 - accuracy: 0.8510 - val_loss: 3.6472 - val_accuracy: 0.1693\n",
      "Epoch 7/15\n",
      "500/500 [==============================] - 10s 19ms/step - loss: 0.3523 - accuracy: 0.8717 - val_loss: 2.2085 - val_accuracy: 0.1417\n",
      "Epoch 8/15\n",
      "500/500 [==============================] - 10s 19ms/step - loss: 0.3124 - accuracy: 0.8873 - val_loss: 2.1631 - val_accuracy: 0.1559\n",
      "Epoch 9/15\n",
      "500/500 [==============================] - 10s 19ms/step - loss: 0.2779 - accuracy: 0.9022 - val_loss: 2.3797 - val_accuracy: 0.1425\n",
      "Epoch 10/15\n",
      "500/500 [==============================] - 10s 19ms/step - loss: 0.2410 - accuracy: 0.9135 - val_loss: 3.3723 - val_accuracy: 0.1450\n",
      "Epoch 11/15\n",
      "500/500 [==============================] - 10s 19ms/step - loss: 0.2095 - accuracy: 0.9269 - val_loss: 3.4065 - val_accuracy: 0.1711\n",
      "Epoch 12/15\n",
      "500/500 [==============================] - 10s 19ms/step - loss: 0.1927 - accuracy: 0.9326 - val_loss: 2.5554 - val_accuracy: 0.1748\n",
      "Epoch 13/15\n",
      "500/500 [==============================] - 10s 19ms/step - loss: 0.1786 - accuracy: 0.9377 - val_loss: 2.8293 - val_accuracy: 0.1729\n",
      "Epoch 14/15\n",
      "500/500 [==============================] - 10s 19ms/step - loss: 0.1621 - accuracy: 0.9430 - val_loss: 2.6712 - val_accuracy: 0.1693\n",
      "Epoch 15/15\n",
      "500/500 [==============================] - 10s 20ms/step - loss: 0.1390 - accuracy: 0.9498 - val_loss: 2.9448 - val_accuracy: 0.1408\n"
     ]
    }
   ],
   "source": [
    "data_generator=ImageDataGenerator(brightness_range=[0.2,1.0])\n",
    "\n",
    "model_data_augmentation=load_model(\"../models/model_basic_with_data_augmentation_rotation&horizontal_flip.h5\",compile=True)\n",
    "\n",
    "data_generator.fit(X_train)\n",
    "\n",
    "epochs = 15\n",
    "lrate = 0.01\n",
    "decay = lrate/epochs\n",
    "\n",
    "adam = optimizers.Adam( decay=decay)\n",
    "model_data_augmentation.compile(loss='categorical_crossentropy', optimizer=adam, metrics=['accuracy'])\n",
    "\n",
    "print(model_data_augmentation.summary())\n",
    "\n",
    "model_data_augmentation.fit(data_generator.flow(X_train, y_train, batch_size=50),validation_data=(X_test, y_test),steps_per_epoch=500, epochs=epochs)\n",
    "\n",
    "model_data_augmentation.save(\"../models/model_basic_with_data_augmentation_rotation&horizontal_flip&brightness.h5\")"
   ]
  },
  {
   "cell_type": "markdown",
   "metadata": {},
   "source": [
    "This technique doesn't improve the performance of the model. We have reached an accuracy 0.75 with pur best model."
   ]
  },
  {
   "cell_type": "code",
   "execution_count": null,
   "metadata": {},
   "outputs": [],
   "source": []
  }
 ],
 "metadata": {
  "kernelspec": {
   "display_name": "Python 3",
   "language": "python",
   "name": "python3"
  },
  "language_info": {
   "codemirror_mode": {
    "name": "ipython",
    "version": 3
   },
   "file_extension": ".py",
   "mimetype": "text/x-python",
   "name": "python",
   "nbconvert_exporter": "python",
   "pygments_lexer": "ipython3",
   "version": "3.6.9"
  }
 },
 "nbformat": 4,
 "nbformat_minor": 2
}
